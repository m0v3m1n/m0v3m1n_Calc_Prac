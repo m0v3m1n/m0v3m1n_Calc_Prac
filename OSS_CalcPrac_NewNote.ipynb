{
  "nbformat": 4,
  "nbformat_minor": 0,
  "metadata": {
    "colab": {
      "provenance": [],
      "authorship_tag": "ABX9TyM1W1wEuCoKlKw0tyAkVE2g",
      "include_colab_link": true
    },
    "kernelspec": {
      "name": "python3",
      "display_name": "Python 3"
    },
    "language_info": {
      "name": "python"
    }
  },
  "cells": [
    {
      "cell_type": "markdown",
      "metadata": {
        "id": "view-in-github",
        "colab_type": "text"
      },
      "source": [
        "<a href=\"https://colab.research.google.com/github/m0v3m1n/m0v3m1n_Calc_Prac/blob/main/OSS_CalcPrac_NewNote.ipynb\" target=\"_parent\"><img src=\"https://colab.research.google.com/assets/colab-badge.svg\" alt=\"Open In Colab\"/></a>"
      ]
    },
    {
      "cell_type": "code",
      "execution_count": 1,
      "metadata": {
        "colab": {
          "base_uri": "https://localhost:8080/"
        },
        "id": "oQdVwQiWIg6g",
        "outputId": "61020dd2-e9fa-4232-ab46-bb4839c201c4"
      },
      "outputs": [
        {
          "output_type": "stream",
          "name": "stdout",
          "text": [
            "Looking in indexes: https://pypi.org/simple, https://us-python.pkg.dev/colab-wheels/public/simple/\n",
            "Collecting m0v3m1n-Calc-Prac==0.0.1\n",
            "  Downloading m0v3m1n_Calc_Prac-0.0.1-py3-none-any.whl (1.4 kB)\n",
            "Installing collected packages: m0v3m1n-Calc-Prac\n",
            "Successfully installed m0v3m1n-Calc-Prac-0.0.1\n"
          ]
        }
      ],
      "source": [
        "!pip install m0v3m1n-Calc-Prac==0.0.1"
      ]
    },
    {
      "cell_type": "code",
      "source": [
        "import mycalc\n",
        "from mycalc import calculator"
      ],
      "metadata": {
        "id": "ZswQbeGRIvWz"
      },
      "execution_count": 5,
      "outputs": []
    },
    {
      "cell_type": "code",
      "source": [
        "A = calculator.add(30, 50)\n",
        "print(A)\n",
        "\n",
        "B = calculator.subtract(50,20)\n",
        "print(B)"
      ],
      "metadata": {
        "colab": {
          "base_uri": "https://localhost:8080/"
        },
        "id": "AGZM5Y1oIxxR",
        "outputId": "e1c193d7-26d9-4c82-c7d3-e0f00695065e"
      },
      "execution_count": 8,
      "outputs": [
        {
          "output_type": "stream",
          "name": "stdout",
          "text": [
            "80\n",
            "30\n"
          ]
        }
      ]
    }
  ]
}